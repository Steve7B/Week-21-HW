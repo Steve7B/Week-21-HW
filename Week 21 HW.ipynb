{
 "cells": [
  {
   "cell_type": "code",
   "execution_count": 1,
   "metadata": {},
   "outputs": [
    {
     "name": "stdout",
     "output_type": "stream",
     "text": [
      "['A', 'Q', 'W', 'E', 'R', 'F', 'D', 'S', 'A', 'A', 'Z', 'Z', 'A', 'Q', 'A', 'A', 'S', 'W', 'D', 'F', 'S', 'A', 'S', 'A', 'Q', 'W', 'E', 'R', 'F', 'D', 'S', 'A', 'A', 'Z', 'Z', 'A', 'Q', 'A', 'A', 'S', 'W', 'D', 'F', 'S', 'A', 'S', 'A', 'Q', 'W', 'E', 'R', 'F', 'D', 'S', 'A', 'A', 'Z', 'Z', 'A', 'Q', 'A', 'A', 'S', 'W', 'D', 'F', 'S', 'A', 'S', 'A', 'Q', 'W', 'E', 'R', 'F', 'D', 'S', 'A', 'A', 'Z', 'Z', 'A', 'Q', 'A', 'A', 'S', 'W', 'D', 'F', 'S', 'A', 'S', 'A', 'Q', 'W', 'E', 'R', 'F', 'D', 'S', 'A', 'A', 'Z', 'Z', 'A', 'Q', 'A', 'A', 'S', 'W', 'D', 'F', 'S', 'A', 'S', 'A', 'Q', 'W', 'E', 'R', 'F', 'D', 'S', 'A', 'A', 'Z', 'Z', 'A', 'Q', 'A', 'A', 'S', 'W', 'D', 'F', 'S', 'A', 'S', 'A', 'Q', 'W', 'E', 'R', 'F', 'D', 'S', 'A', 'A', 'Z', 'Z', 'A', 'Q', 'A', 'A', 'S', 'W', 'D', 'F', 'S', 'A', 'S', 'A', 'Q', 'W', 'E', 'R', 'F', 'D', 'S', 'A', 'A', 'Z', 'Z', 'A', 'Q', 'A', 'A', 'S', 'W', 'D', 'F', 'S', 'A', 'S', 'A', 'Q', 'W', 'E', 'R', 'F', 'D', 'S', 'A', 'A', 'Z', 'Z', 'A', 'Q', 'A', 'A', 'S', 'W', 'D', 'F', 'S', 'A', 'S', 'A', 'Q', 'W', 'E', 'R', 'F', 'D', 'S', 'A', 'A', 'Z', 'Z', 'A', 'Q', 'A', 'A', 'S', 'W', 'D', 'F', 'S', 'A', 'S', 'A', 'Q', 'W', 'E', 'R', 'F', 'D', 'S', 'A', 'A', 'Z', 'Z', 'A', 'Q', 'A', 'A', 'S', 'W', 'D', 'F', 'S', 'A', 'S', 'A', 'Q', 'W', 'E', 'R', 'F', 'D', 'S', 'A', 'A', 'Z', 'Z', 'A', 'Q', 'A', 'A', 'S', 'W', 'D', 'F', 'S', 'A', 'S', 'A', 'Q', 'W', 'E', 'R', 'F', 'D', 'S', 'A', 'A', 'Z', 'Z', 'A', 'Q', 'A', 'A', 'S', 'W', 'D', 'F', 'S', 'A', 'S']\n"
     ]
    }
   ],
   "source": [
    "file = open('letters.txt')\n",
    "letters = file.read().split()\n",
    "print(letters)"
   ]
  },
  {
   "cell_type": "code",
   "execution_count": 29,
   "metadata": {},
   "outputs": [
    {
     "name": "stdout",
     "output_type": "stream",
     "text": [
      "{'A': 91, 'Q': 26, 'W': 26, 'E': 13, 'R': 13, 'F': 26, 'D': 26, 'S': 52, 'Z': 26}\n"
     ]
    }
   ],
   "source": [
    "My_Letters_Dictionary = {Some:letters.count(Some) for Some in letters}\n",
    "print(My_Letters_Dictionary)"
   ]
  },
  {
   "cell_type": "code",
   "execution_count": 28,
   "metadata": {},
   "outputs": [
    {
     "name": "stdout",
     "output_type": "stream",
     "text": [
      "A has been wrote 91 times. \n"
     ]
    }
   ],
   "source": [
    "print(f\"A has been wrote {My_Letters_Dictionary['A']} times. \")"
   ]
  }
 ],
 "metadata": {
  "kernelspec": {
   "display_name": "Python 3",
   "language": "python",
   "name": "python3"
  },
  "language_info": {
   "codemirror_mode": {
    "name": "ipython",
    "version": 3
   },
   "file_extension": ".py",
   "mimetype": "text/x-python",
   "name": "python",
   "nbconvert_exporter": "python",
   "pygments_lexer": "ipython3",
   "version": "3.8.5"
  }
 },
 "nbformat": 4,
 "nbformat_minor": 4
}
